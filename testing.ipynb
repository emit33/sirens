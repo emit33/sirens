{
 "cells": [
  {
   "cell_type": "code",
   "execution_count": 18,
   "id": "3f899689",
   "metadata": {},
   "outputs": [],
   "source": [
    "import torch\n",
    "import numpy as np\n",
    "\n",
    "image_height = 480\n",
    "image_width = 640\n",
    "\n",
    "tensors = [torch.linspace(-1, 1, steps = image_height), torch.linspace(-1, 1, steps = image_width)]\n",
    "#mgrid = torch.meshgrid(*tensors, indexing = 'ij')\n",
    "mgrid = torch.stack(torch.meshgrid(*tensors, indexing = 'ij'), dim=-1)"
   ]
  },
  {
   "cell_type": "code",
   "execution_count": 24,
   "id": "ea206c73",
   "metadata": {},
   "outputs": [
    {
     "data": {
      "text/plain": [
       "tensor(-0.9844)"
      ]
     },
     "execution_count": 24,
     "metadata": {},
     "output_type": "execute_result"
    }
   ],
   "source": [
    "tensors[1][5]"
   ]
  },
  {
   "cell_type": "code",
   "execution_count": 21,
   "id": "468c0bb8",
   "metadata": {},
   "outputs": [
    {
     "data": {
      "text/plain": [
       "tensor([-0.9875, -0.9844])"
      ]
     },
     "execution_count": 21,
     "metadata": {},
     "output_type": "execute_result"
    }
   ],
   "source": [
    "mgrid[3,5]"
   ]
  },
  {
   "cell_type": "code",
   "execution_count": 16,
   "id": "36e72bcb",
   "metadata": {},
   "outputs": [
    {
     "data": {
      "text/plain": [
       "(tensor(-0.9875), tensor(-0.9906))"
      ]
     },
     "execution_count": 16,
     "metadata": {},
     "output_type": "execute_result"
    }
   ],
   "source": [
    "mgrid[0][3,5], tensors[1][3]"
   ]
  }
 ],
 "metadata": {
  "kernelspec": {
   "display_name": "sirens",
   "language": "python",
   "name": "python3"
  },
  "language_info": {
   "codemirror_mode": {
    "name": "ipython",
    "version": 3
   },
   "file_extension": ".py",
   "mimetype": "text/x-python",
   "name": "python",
   "nbconvert_exporter": "python",
   "pygments_lexer": "ipython3",
   "version": "3.12.10"
  }
 },
 "nbformat": 4,
 "nbformat_minor": 5
}
